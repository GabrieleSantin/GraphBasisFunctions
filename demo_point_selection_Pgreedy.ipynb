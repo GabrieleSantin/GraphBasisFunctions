{
 "cells": [
  {
   "cell_type": "markdown",
   "metadata": {},
   "source": [
    "# Introduction to the point selection via P-greedy"
   ]
  },
  {
   "cell_type": "code",
   "execution_count": null,
   "metadata": {},
   "outputs": [],
   "source": [
    "from utils import plot_graph\n",
    "from graph_loaders import load_graph\n",
    "import matplotlib.pyplot as plt\n",
    "import numpy as np\n",
    "from approx import GBFGreedy\n",
    "from kernels import VarSpline, Diffusion\n",
    "import networkx as nx"
   ]
  },
  {
   "cell_type": "markdown",
   "metadata": {},
   "source": [
    "### Load a graph"
   ]
  },
  {
   "cell_type": "markdown",
   "metadata": {},
   "source": [
    "We start by loading a pre-defined graph to be used as an example. "
   ]
  },
  {
   "cell_type": "code",
   "execution_count": null,
   "metadata": {},
   "outputs": [],
   "source": [
    "# G = load_graph('wbc')\n",
    "# G = load_graph('sensor2')\n",
    "# G = load_graph('sensor1'\n",
    "# G = load_graph('emptyset')\n",
    "# G = load_graph('2moon')\n",
    "# G = load_graph('minnesota')\n",
    "# G = load_graph('rand')\n",
    "# G = load_graph('rand_sparse')\n",
    "G = load_graph('bunny')\n",
    "\n",
    "# G = nx.dorogovtsev_goltsev_mendes_graph(7)\n",
    "# pos = nx.spectral_layout(G, center=[0.5, 0.5])\n",
    "# nx.set_node_attributes(G, pos, 'pos')"
   ]
  },
  {
   "cell_type": "markdown",
   "metadata": {},
   "source": [
    "### Define an optimization set"
   ]
  },
  {
   "cell_type": "markdown",
   "metadata": {},
   "source": [
    "In this case the focus is on point selection only. This means that we can use all the nodes as a training set, but without the need to have target values `y_train`."
   ]
  },
  {
   "cell_type": "code",
   "execution_count": null,
   "metadata": {},
   "outputs": [],
   "source": [
    "X_train = np.arange(len(G))"
   ]
  },
  {
   "cell_type": "markdown",
   "metadata": {},
   "source": [
    "Then, we assign dummy target values."
   ]
  },
  {
   "cell_type": "code",
   "execution_count": null,
   "metadata": {},
   "outputs": [],
   "source": [
    "y_train = np.random.rand(len(G))"
   ]
  },
  {
   "cell_type": "markdown",
   "metadata": {},
   "source": [
    "The signal looks as follows. The training nodes are highlighted."
   ]
  },
  {
   "cell_type": "markdown",
   "metadata": {},
   "source": [
    "### Define a kernel"
   ]
  },
  {
   "cell_type": "markdown",
   "metadata": {},
   "source": [
    "We now pick a Graph Basis Function as the kernel that will be used in the approximation. "
   ]
  },
  {
   "cell_type": "code",
   "execution_count": null,
   "metadata": {},
   "outputs": [],
   "source": [
    "# kernel = VarSpline(G, par=[-1.1, 0.01])\n",
    "kernel = Diffusion(G, par=[-1])"
   ]
  },
  {
   "cell_type": "markdown",
   "metadata": {},
   "source": [
    "### Reconstruct the signal"
   ]
  },
  {
   "cell_type": "markdown",
   "metadata": {},
   "source": [
    "We first initialize the approximant. We set `tol_f=0` (i.e., don't use the residual to terminate the algorithm) and instead stop after `max_iter` points are selected or when the max of the squared power function is below `tol_p`. Here we turn off the regularization (i.e., `reg_par=0`) since we are interested purely in the variance minimization."
   ]
  },
  {
   "cell_type": "code",
   "execution_count": null,
   "metadata": {},
   "outputs": [],
   "source": [
    "max_iter = 100 # Max number of point to be selected\n",
    "tol_p = 1e-12  # Tolerance on the max of the squared power function\n",
    "tol_f = 0      # Tolerance on the residual\n",
    "\n",
    "model = GBFGreedy(G, kernel=kernel, greedy_type='f_greedy', \n",
    "                  reg_par=0, \n",
    "                  max_iter=max_iter, tol_p=tol_p, tol_f=tol_f)"
   ]
  },
  {
   "cell_type": "markdown",
   "metadata": {},
   "source": [
    "We can now fit the approximant to the training data."
   ]
  },
  {
   "cell_type": "code",
   "execution_count": null,
   "metadata": {},
   "outputs": [],
   "source": [
    "model.fit(X_train, y_train)"
   ]
  },
  {
   "cell_type": "markdown",
   "metadata": {},
   "source": [
    "### Visualize the selected points and the decay of the power function"
   ]
  },
  {
   "cell_type": "markdown",
   "metadata": {},
   "source": [
    "We visualize the training history."
   ]
  },
  {
   "cell_type": "code",
   "execution_count": null,
   "metadata": {},
   "outputs": [],
   "source": [
    "p_max = model.train_hist['p']"
   ]
  },
  {
   "cell_type": "markdown",
   "metadata": {},
   "source": [
    "We estimate the algebraic rate of decay of the power function."
   ]
  },
  {
   "cell_type": "code",
   "execution_count": null,
   "metadata": {},
   "outputs": [],
   "source": [
    "tail_size = int(0.3 * len(p_max)) \n",
    "nn = np.arange(1, len(p_max) + 1)\n",
    "coeff_max = np.polyfit(np.log(nn)[-tail_size:], np.log(p_max)[-tail_size:], 1)"
   ]
  },
  {
   "cell_type": "code",
   "execution_count": null,
   "metadata": {},
   "outputs": [],
   "source": [
    "fig = plt.figure(figsize=(7, 5))\n",
    "ax = fig.gca()\n",
    "a = ax.loglog(p_max)\n",
    "ax.loglog(nn[-2*tail_size:], np.exp(coeff_max[1]) * nn[-2*tail_size:] ** coeff_max[0], \n",
    "              '--', color=a[0].get_color())\n",
    "ax.legend(['Max of the power function', '$n^{%2.2f}$' % coeff_max[0]], fontsize=16, loc=(1.1, 0.1))\n",
    "ax.set_xlabel('Number of nodes', fontsize=16)\n",
    "for tick in ax.xaxis.get_major_ticks():\n",
    "    tick.label.set_fontsize(16) \n",
    "for tick in ax.yaxis.get_major_ticks():\n",
    "    tick.label.set_fontsize(16) \n",
    "ax.grid(True)\n",
    "ax.grid(True)"
   ]
  },
  {
   "cell_type": "markdown",
   "metadata": {},
   "source": [
    "And the selected points. In this case we visualize the power function values as a signal."
   ]
  },
  {
   "cell_type": "code",
   "execution_count": null,
   "metadata": {},
   "outputs": [],
   "source": [
    "p = model.eval_power_fun(X_train)"
   ]
  },
  {
   "cell_type": "code",
   "execution_count": null,
   "metadata": {},
   "outputs": [],
   "source": [
    "fig = plt.figure(figsize=(7, 5))\n",
    "ax = fig.gca()\n",
    "plot_graph(G, ax=ax, values=p, nodelist=model.ctrs_, \n",
    "           cb_label='Power function')"
   ]
  }
 ],
 "metadata": {
  "kernelspec": {
   "display_name": "Python 3",
   "language": "python",
   "name": "python3"
  },
  "language_info": {
   "codemirror_mode": {
    "name": "ipython",
    "version": 3
   },
   "file_extension": ".py",
   "mimetype": "text/x-python",
   "name": "python",
   "nbconvert_exporter": "python",
   "pygments_lexer": "ipython3",
   "version": "3.8.3"
  }
 },
 "nbformat": 4,
 "nbformat_minor": 4
}
