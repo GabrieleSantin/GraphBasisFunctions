{
 "cells": [
  {
   "cell_type": "markdown",
   "metadata": {},
   "source": [
    "# Comparison of the decay of the approximation error for different kernels"
   ]
  },
  {
   "cell_type": "code",
   "execution_count": null,
   "metadata": {},
   "outputs": [],
   "source": [
    "from utils import plot_graph\n",
    "from graph_loaders import load_graph\n",
    "import matplotlib.pyplot as plt\n",
    "import numpy as np\n",
    "from approx import GBFInterpolant\n",
    "from kernels import VarSpline, Diffusion, PolyDecay, Trivial\n",
    "import networkx as nx"
   ]
  },
  {
   "cell_type": "markdown",
   "metadata": {},
   "source": [
    "### Load a graph"
   ]
  },
  {
   "cell_type": "markdown",
   "metadata": {},
   "source": [
    "We start by loading a pre-defined graph to be used as an example. "
   ]
  },
  {
   "cell_type": "code",
   "execution_count": null,
   "metadata": {},
   "outputs": [],
   "source": [
    "# G = load_graph('wbc')\n",
    "# G = load_graph('sensor2')\n",
    "# G = load_graph('sensor1')\n",
    "# G = load_graph('emptyset')\n",
    "# G = load_graph('2moon')\n",
    "# G = load_graph('minnesota')\n",
    "# G = load_graph('rand')\n",
    "# G = load_graph('rand_sparse')\n",
    "G = load_graph('bunny')"
   ]
  },
  {
   "cell_type": "markdown",
   "metadata": {},
   "source": [
    "### Define a test set"
   ]
  },
  {
   "cell_type": "markdown",
   "metadata": {},
   "source": [
    "The signal `f` is defined as a Gaussian centered and scaled around the mean point of the graph."
   ]
  },
  {
   "cell_type": "code",
   "execution_count": null,
   "metadata": {},
   "outputs": [],
   "source": [
    "f = lambda x: np.exp(-(4 * np.linalg.norm(x - [.5, .5], axis=1)) ** 2)"
   ]
  },
  {
   "cell_type": "markdown",
   "metadata": {},
   "source": [
    "As a test set we use the entire set of nodes and we assign the train and test values by evaluating `f`."
   ]
  },
  {
   "cell_type": "code",
   "execution_count": null,
   "metadata": {},
   "outputs": [],
   "source": [
    "X_test = np.arange(len(G))\n",
    "\n",
    "pos = np.array([[pos[0], pos[1]] for pos in nx.get_node_attributes(G, 'pos').values()])\n",
    "y_test = np.array(f(pos))"
   ]
  },
  {
   "cell_type": "markdown",
   "metadata": {},
   "source": [
    "The signal looks as follows. "
   ]
  },
  {
   "cell_type": "code",
   "execution_count": null,
   "metadata": {},
   "outputs": [],
   "source": [
    "fig = plt.figure(figsize=(7, 5))\n",
    "fig.clf()\n",
    "ax = fig.gca()\n",
    "plot_graph(G, ax=ax, values=y_test, \n",
    "           cb_label='Target signal')"
   ]
  },
  {
   "cell_type": "markdown",
   "metadata": {},
   "source": [
    "### Define a sequence of train set"
   ]
  },
  {
   "cell_type": "markdown",
   "metadata": {},
   "source": [
    "We compute the approximants using an increasing sequence of nodes containing `nn[0]`, ..., `nn[-1]` number of elements, where `nn` is a logspaced sequence of roughly `n_steps` integers between `1` and `max_nodes`. \n",
    "\n",
    "The permutation `nodes_idx` is used to select the nodes."
   ]
  },
  {
   "cell_type": "code",
   "execution_count": null,
   "metadata": {},
   "outputs": [],
   "source": [
    "max_nodes = int(len(G) * 0.9)\n",
    "n_steps = 20\n",
    "nn = np.unique(np.logspace(0, np.log10(max_nodes), n_steps).astype(int))\n",
    "nodes_idx = np.random.permutation(np.arange(len(G)))"
   ]
  },
  {
   "cell_type": "markdown",
   "metadata": {},
   "source": [
    "### Define the kernels"
   ]
  },
  {
   "cell_type": "markdown",
   "metadata": {},
   "source": [
    "We now pick some Graph Basis Functions as the kernels that will be used in the approximation. "
   ]
  },
  {
   "cell_type": "code",
   "execution_count": null,
   "metadata": {},
   "outputs": [],
   "source": [
    "kernel = {}\n",
    "kernel['Diffusion'] = Diffusion(G, par=[-10])\n",
    "kernel['VarSpline'] = VarSpline(G, par=[-2.1, 0.01])\n",
    "kernel['PolyDecay'] = PolyDecay(G)\n",
    "kernel['Trivial'] = Trivial(G)"
   ]
  },
  {
   "cell_type": "markdown",
   "metadata": {},
   "source": [
    "We visualize a kernel translate for each kernel."
   ]
  },
  {
   "cell_type": "code",
   "execution_count": null,
   "metadata": {},
   "outputs": [],
   "source": [
    "idx = int(np.random.randint(0, len(X_test), 1))\n",
    "ker_eval = {}\n",
    "for ker_id in kernel:\n",
    "    ker_eval[ker_id] = kernel[ker_id].eval(X_test, X_test[idx])\n",
    "\n",
    "n_rows = int(np.ceil(len(kernel) / 2))\n",
    "fig = plt.figure(figsize=(15, 7 * n_rows))\n",
    "for i, ker_id in enumerate(kernel):\n",
    "    ax = plt.subplot(n_rows, 2, i+1)\n",
    "    plot_graph(G, ax=ax, values=ker_eval[ker_id], nodelist=X_test[idx:idx+1], \n",
    "              cb_label='A GBF translate')\n",
    "    ax.set_title(ker_id)"
   ]
  },
  {
   "cell_type": "markdown",
   "metadata": {},
   "source": [
    "### Reconstruct the signal"
   ]
  },
  {
   "cell_type": "markdown",
   "metadata": {},
   "source": [
    "We first initialize the approximants. "
   ]
  },
  {
   "cell_type": "code",
   "execution_count": null,
   "metadata": {},
   "outputs": [],
   "source": [
    "model = {}\n",
    "for ker_id in kernel:\n",
    "    model[ker_id] = GBFInterpolant(G, kernel=kernel[ker_id], reg_par=1e-15, verbose=False)"
   ]
  },
  {
   "cell_type": "markdown",
   "metadata": {},
   "source": [
    "We can now fit the approximants to the increasing sets of training data."
   ]
  },
  {
   "cell_type": "code",
   "execution_count": null,
   "metadata": {},
   "outputs": [],
   "source": [
    "rel_err_tol = 1e-10\n",
    "max_err_test = {}\n",
    "rms_err_test = {}\n",
    "for ker_id in kernel:\n",
    "    max_err_test[ker_id] = []\n",
    "    rms_err_test[ker_id] = []\n",
    "\n",
    "for idx, n in enumerate(nn):\n",
    "    print('[ %4d / %4d ] Fitting %2d models with %4d training nodes' %(idx + 1, len(nn), len(kernel), n))\n",
    "    X_train = X_test[nodes_idx[:n]]\n",
    "    y_train = y_test[nodes_idx[:n]]\n",
    "    for ker_id in kernel:\n",
    "        s_test = model[ker_id].fit(X_train, y_train).predict(X_test)\n",
    "        abs_err_test = np.abs(y_test - s_test)\n",
    "        max_err_test[ker_id].append(np.max(abs_err_test))\n",
    "        rms_err_test[ker_id].append(np.linalg.norm(abs_err_test) / np.sqrt(len(X_test)))"
   ]
  },
  {
   "cell_type": "markdown",
   "metadata": {},
   "source": [
    "### Visualize"
   ]
  },
  {
   "cell_type": "markdown",
   "metadata": {},
   "source": [
    "We estimate the algebraic rate of decay of the various errors."
   ]
  },
  {
   "cell_type": "code",
   "execution_count": null,
   "metadata": {},
   "outputs": [],
   "source": [
    "coeff_max = {}\n",
    "coeff_rms = {}\n",
    "for ker_id in kernel:\n",
    "    coeff_max[ker_id] = np.polyfit(np.log(nn), np.log(max_err_test[ker_id]), 1)\n",
    "    coeff_rms[ker_id] = np.polyfit(np.log(nn), np.log(rms_err_test[ker_id]), 1)"
   ]
  },
  {
   "cell_type": "markdown",
   "metadata": {},
   "source": [
    "Finally, we visualize the decay of the max and RMS errors."
   ]
  },
  {
   "cell_type": "code",
   "execution_count": null,
   "metadata": {},
   "outputs": [],
   "source": [
    "leg = []\n",
    "fig = plt.figure(figsize=(7, 5))\n",
    "fig.clf()\n",
    "ax = fig.gca()\n",
    "for ker_id in kernel:\n",
    "    a = ax.loglog(nn, max_err_test[ker_id], linewidth=2)\n",
    "    ax.loglog(nn, np.exp(coeff_max[ker_id][1]) * nn ** coeff_max[ker_id][0], \n",
    "              '--', color=a[0].get_color())\n",
    "    leg += [ker_id, '$n^{%2.2f}$' % coeff_max[ker_id][0]]\n",
    "\n",
    "ax.grid(True)\n",
    "ax.legend(leg, fontsize=16, loc=(1.1, 0.1))\n",
    "ax.set_xlabel('Number of nodes', fontsize=16)\n",
    "ax.set_ylabel('Max Error', fontsize=16)\n",
    "for tick in ax.xaxis.get_major_ticks():\n",
    "    tick.label.set_fontsize(16) \n",
    "for tick in ax.yaxis.get_major_ticks():\n",
    "    tick.label.set_fontsize(16) "
   ]
  },
  {
   "cell_type": "code",
   "execution_count": null,
   "metadata": {},
   "outputs": [],
   "source": [
    "leg = []\n",
    "fig = plt.figure(figsize=(7, 5))\n",
    "fig.clf()\n",
    "ax = fig.gca()\n",
    "for ker_id in kernel:\n",
    "    a = ax.loglog(nn, rms_err_test[ker_id], linewidth=2)\n",
    "    ax.loglog(nn, np.exp(coeff_rms[ker_id][1]) * nn ** coeff_rms[ker_id][0], \n",
    "              '--', color=a[0].get_color())\n",
    "    leg += [ker_id, '$n^{%2.2f}$' % coeff_rms[ker_id][0]]\n",
    "\n",
    "ax.grid(True)\n",
    "ax.legend(leg, fontsize=16, loc=(1.1, 0.1))\n",
    "ax.set_xlabel('Number of nodes', fontsize=16)\n",
    "ax.set_ylabel('RMS Error', fontsize=16)\n",
    "for tick in ax.xaxis.get_major_ticks():\n",
    "    tick.label.set_fontsize(16) \n",
    "for tick in ax.yaxis.get_major_ticks():\n",
    "    tick.label.set_fontsize(16) "
   ]
  },
  {
   "cell_type": "code",
   "execution_count": null,
   "metadata": {},
   "outputs": [],
   "source": []
  }
 ],
 "metadata": {
  "kernelspec": {
   "display_name": "Python 3",
   "language": "python",
   "name": "python3"
  },
  "language_info": {
   "codemirror_mode": {
    "name": "ipython",
    "version": 3
   },
   "file_extension": ".py",
   "mimetype": "text/x-python",
   "name": "python",
   "nbconvert_exporter": "python",
   "pygments_lexer": "ipython3",
   "version": "3.8.3"
  }
 },
 "nbformat": 4,
 "nbformat_minor": 4
}
