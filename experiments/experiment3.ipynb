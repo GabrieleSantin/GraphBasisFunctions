{
 "cells": [
  {
   "cell_type": "markdown",
   "metadata": {},
   "source": [
    "# Experiment 3"
   ]
  },
  {
   "cell_type": "markdown",
   "metadata": {},
   "source": [
    "This id is used as a prefix for the figure names."
   ]
  },
  {
   "cell_type": "code",
   "execution_count": null,
   "metadata": {},
   "outputs": [],
   "source": [
    "exp_id = 'experiment3'\n",
    "from datetime import datetime\n",
    "exp_id += '_' + str(datetime.now()).replace(' ', '_')"
   ]
  },
  {
   "cell_type": "markdown",
   "metadata": {},
   "source": [
    "### Imports"
   ]
  },
  {
   "cell_type": "code",
   "execution_count": null,
   "metadata": {},
   "outputs": [],
   "source": [
    "import sys\n",
    "sys.path.insert(1, '../')"
   ]
  },
  {
   "cell_type": "code",
   "execution_count": null,
   "metadata": {},
   "outputs": [],
   "source": [
    "from utils import plot_graph, independent_cascade_scorer\n",
    "from graph_loaders import load_graph\n",
    "import matplotlib.pyplot as plt\n",
    "import numpy as np\n",
    "from approx import GBFGreedy, GBFInterpolant\n",
    "from kernels import VarSpline, Diffusion\n",
    "import networkx as nx\n",
    "from sklearn.model_selection import GridSearchCV\n",
    "from sklearn.metrics import make_scorer\n",
    "from external_algorithms import ICgreedy\n",
    "plt.rcParams.update({'font.size': 16})"
   ]
  },
  {
   "cell_type": "markdown",
   "metadata": {},
   "source": [
    "### Load a graph"
   ]
  },
  {
   "cell_type": "code",
   "execution_count": null,
   "metadata": {},
   "outputs": [],
   "source": [
    "path = '../'\n",
    "# G = load_graph('sensor2', path=path)\n",
    "G = load_graph('sensor1', path=path)\n",
    "# G = load_graph('emptyset', path=path)\n",
    "# G = load_graph('2moon', path=path)\n",
    "# G = load_graph('minnesota', path=path)\n",
    "# G = load_graph('rand', path=path)\n",
    "# G = load_graph('rand_sparse', path=path)\n",
    "# G = load_graph('bunny', path=path)\n",
    "\n",
    "# G = nx.dorogovtsev_goltsev_mendes_graph(7)\n",
    "# pos = nx.spectral_layout(G, center=[0.5, 0.5])\n",
    "# nx.set_node_attributes(G, pos, 'pos')"
   ]
  },
  {
   "cell_type": "code",
   "execution_count": null,
   "metadata": {},
   "outputs": [],
   "source": [
    "(len(G), len(G.edges))"
   ]
  },
  {
   "cell_type": "markdown",
   "metadata": {},
   "source": [
    "## Independent cascade"
   ]
  },
  {
   "cell_type": "code",
   "execution_count": null,
   "metadata": {},
   "outputs": [],
   "source": [
    "max_iter = 10   # Max number of point to be selected\n",
    "p = 0.2         # Propagation probability\n",
    "mc = 500        # Number of Monte-Carlo simulations"
   ]
  },
  {
   "cell_type": "code",
   "execution_count": null,
   "metadata": {},
   "outputs": [],
   "source": [
    "idx_IC, spread = ICgreedy(G, max_iter, p, mc)"
   ]
  },
  {
   "cell_type": "markdown",
   "metadata": {},
   "source": [
    "## Page Rank"
   ]
  },
  {
   "cell_type": "code",
   "execution_count": null,
   "metadata": {},
   "outputs": [],
   "source": [
    "pg = nx.link_analysis.pagerank(G)\n",
    "idx_pagerank = [node[0] for node in sorted(pg.items(), key=lambda item: item[1], reverse=True)]"
   ]
  },
  {
   "cell_type": "markdown",
   "metadata": {},
   "source": [
    "## $P$-greedy"
   ]
  },
  {
   "cell_type": "markdown",
   "metadata": {},
   "source": [
    "Define an optimization set"
   ]
  },
  {
   "cell_type": "code",
   "execution_count": null,
   "metadata": {},
   "outputs": [],
   "source": [
    "X_train = np.arange(len(G))\n",
    "y_train = np.ones(len(G))"
   ]
  },
  {
   "cell_type": "markdown",
   "metadata": {},
   "source": [
    "Define the common params for the point selection and optimization"
   ]
  },
  {
   "cell_type": "code",
   "execution_count": null,
   "metadata": {},
   "outputs": [],
   "source": [
    "tol_p = 1e-10  # Tolerance on the max of the squared power function\n",
    "tol_f = 1e-12  # Tolerance on the residual"
   ]
  },
  {
   "cell_type": "code",
   "execution_count": null,
   "metadata": {},
   "outputs": [],
   "source": [
    "def mean_error(y_true, y_pred):\n",
    "    return np.mean(np.abs(y_true - y_pred))\n",
    "\n",
    "def max_error(y_true, y_pred):\n",
    "    return np.max(np.abs(y_true - y_pred))\n",
    "\n",
    "scorer = make_scorer(mean_error, greater_is_better=False)\n",
    "cv = 5          # cv-fold cross validation\n",
    "n_jobs = -1     # number of parallel jobs (-1: all available cores)\n",
    "grid_size = 25   # size of 1d discretization grid"
   ]
  },
  {
   "cell_type": "code",
   "execution_count": null,
   "metadata": {},
   "outputs": [],
   "source": [
    "kernel = VarSpline(G, par=[-1.1, 0.01])\n",
    "# kernel = Diffusion(G, par=[-10])"
   ]
  },
  {
   "cell_type": "markdown",
   "metadata": {},
   "source": [
    "Select the points for optimized kernel"
   ]
  },
  {
   "cell_type": "code",
   "execution_count": null,
   "metadata": {},
   "outputs": [],
   "source": [
    "params = {\n",
    "        'kernel': ['VarSpline'],\n",
    "        'kernel_par': [[-x, y] for x in np.logspace(-1, 1, grid_size) for y in np.logspace(-16, 0, grid_size)]\n",
    "        }\n",
    "\n",
    "# params['diffusion'] = {\n",
    "#         'kernel': ['Diffusion'],\n",
    "#         'kernel_par': [[-x] for x in np.logspace(-2, 2, grid_size)]\n",
    "# }"
   ]
  },
  {
   "cell_type": "code",
   "execution_count": null,
   "metadata": {},
   "outputs": [],
   "source": [
    "model = GridSearchCV(GBFGreedy(G, kernel=kernel, greedy_type='p_greedy', \n",
    "                                            reg_par=0, \n",
    "                                            max_iter=max_iter, tol_p=tol_p, tol_f=tol_f, \n",
    "                                            verbose=False), \n",
    "                                  param_grid=params, scoring=scorer, n_jobs=n_jobs, \n",
    "                                  cv=cv, refit=True, verbose=1)\n",
    "\n",
    "model.fit(X_train, y_train)"
   ]
  },
  {
   "cell_type": "markdown",
   "metadata": {},
   "source": [
    "Check the optimal parameters"
   ]
  },
  {
   "cell_type": "code",
   "execution_count": null,
   "metadata": {},
   "outputs": [],
   "source": [
    "print(model.best_estimator_.kernel.par)"
   ]
  },
  {
   "cell_type": "markdown",
   "metadata": {},
   "source": [
    "## Compare"
   ]
  },
  {
   "cell_type": "code",
   "execution_count": null,
   "metadata": {},
   "outputs": [],
   "source": [
    "idx_kernel = model.best_estimator_.ctrs_.flatten().tolist()\n",
    "# idx_IC already ok\n",
    "idx_pagerank = idx_pagerank[:max_iter]"
   ]
  },
  {
   "cell_type": "markdown",
   "metadata": {},
   "source": [
    "### Visualize the selected points"
   ]
  },
  {
   "cell_type": "code",
   "execution_count": null,
   "metadata": {},
   "outputs": [],
   "source": [
    "fig = plt.figure(figsize=(15, 5))\n",
    "ax = plt.subplot(1, 3, 1) \n",
    "v = y_train.copy()\n",
    "v[idx_kernel] = 0\n",
    "plot_graph(G, ax=ax, values=v,\n",
    "           nodelist=idx_kernel,\n",
    "           show_cb=False)\n",
    "ax.set_title('kernel')\n",
    "    \n",
    "ax = plt.subplot(1, 3, 2) \n",
    "v = y_train.copy()\n",
    "v[idx_IC] = 0\n",
    "plot_graph(G, ax=ax, values=v,\n",
    "           nodelist=idx_IC,\n",
    "           show_cb=False)\n",
    "ax.set_title('IC')\n",
    "\n",
    "ax = plt.subplot(1, 3, 3) \n",
    "v = y_train.copy()\n",
    "v[idx_pagerank] = 0\n",
    "plot_graph(G, ax=ax, values=v,\n",
    "           nodelist=idx_pagerank, \n",
    "           show_cb=False)\n",
    "ax.set_title('pagerank')\n",
    "    \n",
    "plt.savefig('figures/' + exp_id + '_points' + '.pdf', bbox_inches='tight')"
   ]
  },
  {
   "cell_type": "markdown",
   "metadata": {},
   "source": [
    "### Visualize the order of the first selected points"
   ]
  },
  {
   "cell_type": "code",
   "execution_count": null,
   "metadata": {},
   "outputs": [],
   "source": [
    "import pandas as pd\n",
    "data = {}\n",
    "\n",
    "data['kernel'] = idx_kernel\n",
    "data['IC'] = idx_IC    \n",
    "data['pagerank'] = idx_pagerank\n",
    "data['degree'] = [n[0] for n in sorted(G.degree, key=lambda x: x[1], reverse=True)][:max_iter]\n",
    "                  \n",
    "points = pd.DataFrame(data)\n",
    "points.head(10)"
   ]
  },
  {
   "cell_type": "code",
   "execution_count": null,
   "metadata": {},
   "outputs": [],
   "source": [
    "set(points['kernel']) & set(points['IC']) & set(points['pagerank'])"
   ]
  },
  {
   "cell_type": "code",
   "execution_count": null,
   "metadata": {},
   "outputs": [],
   "source": [
    "set(points['kernel']) & set(points['IC'])"
   ]
  },
  {
   "cell_type": "code",
   "execution_count": null,
   "metadata": {},
   "outputs": [],
   "source": [
    "set(points['kernel']) & set(points['pagerank'])"
   ]
  },
  {
   "cell_type": "code",
   "execution_count": null,
   "metadata": {},
   "outputs": [],
   "source": [
    "set(points['IC']) & set(points['pagerank'])"
   ]
  },
  {
   "cell_type": "markdown",
   "metadata": {},
   "source": [
    "### Visualize the IC score"
   ]
  },
  {
   "cell_type": "code",
   "execution_count": null,
   "metadata": {},
   "outputs": [],
   "source": [
    "ICscore = {}\n",
    "ICscore['kernel'] = independent_cascade_scorer(G, idx_kernel, p, mc)\n",
    "ICscore['IC'] = independent_cascade_scorer(G, idx_IC, p, mc)\n",
    "ICscore['pagerank'] = independent_cascade_scorer(G, idx_pagerank, p, mc)"
   ]
  },
  {
   "cell_type": "code",
   "execution_count": null,
   "metadata": {},
   "outputs": [],
   "source": [
    "fig = plt.figure(figsize=(6, 5))\n",
    "ax = fig.gca()\n",
    "leg = []\n",
    "for method_id in ICscore:\n",
    "    ax.plot(ICscore[method_id], 'o-')\n",
    "    leg.append(method_id)\n",
    "\n",
    "ax.legend(leg, fontsize=16)\n",
    "\n",
    "ax.set_xlabel('Number of nodes', fontsize=16)\n",
    "ax.set_ylabel('IC score', fontsize=16)\n",
    "ax.set_ylim(.9 * np.min(ICscore['IC']), 1.5 * np.max(ICscore['IC']))\n",
    "\n",
    "for tick in ax.xaxis.get_major_ticks():\n",
    "    tick.label.set_fontsize(16) \n",
    "for tick in ax.yaxis.get_major_ticks():\n",
    "    tick.label.set_fontsize(16) \n",
    "ax.grid(True)\n",
    "ax.set_ylim([0, 1])\n",
    "\n",
    "plt.savefig('figures/' + exp_id + '_IC_score' + '.pdf', bbox_inches='tight')"
   ]
  },
  {
   "cell_type": "markdown",
   "metadata": {},
   "source": [
    "### Visualize the variance"
   ]
  },
  {
   "cell_type": "code",
   "execution_count": null,
   "metadata": {},
   "outputs": [],
   "source": [
    "kernel = model.best_estimator_.kernel"
   ]
  },
  {
   "cell_type": "code",
   "execution_count": null,
   "metadata": {},
   "outputs": [],
   "source": [
    "p_max = {}\n",
    "p_mean = {}\n",
    "\n",
    "model_kernel = GBFInterpolant(G, kernel=kernel, reg_par=0, verbose=False)\n",
    "p_max['kernel'] = []\n",
    "p_mean['kernel'] = []\n",
    "for i in range(len(idx_kernel)):\n",
    "    model_kernel.fit(idx_kernel[:i+1], np.ones(i+1))\n",
    "    p_kernel = model_kernel.eval_power_fun(X_train)\n",
    "    p_max['kernel'].append(np.max(p_kernel))   \n",
    "    p_mean['kernel'].append(np.mean(p_kernel))   \n",
    "    \n",
    "model_IC = GBFInterpolant(G, kernel=kernel, reg_par=0, verbose=False)\n",
    "p_max['IC'] = []\n",
    "p_mean['IC'] = []\n",
    "for i in range(len(idx_IC)):\n",
    "    model_IC.fit(idx_IC[:i+1], np.ones(i+1))\n",
    "    p_IC = model_IC.eval_power_fun(X_train)\n",
    "    p_max['IC'].append(np.max(p_IC))    \n",
    "    p_mean['IC'].append(np.mean(p_IC))    \n",
    "    \n",
    "model_pagerank = GBFInterpolant(G, kernel=kernel, reg_par=0, verbose=False)\n",
    "p_max['pagerank'] = []\n",
    "p_mean['pagerank'] = []\n",
    "for i in range(len(idx_pagerank)):\n",
    "    model_pagerank.fit(idx_pagerank[:i+1], np.ones(i+1))\n",
    "    p_pagerank = model_pagerank.eval_power_fun(X_train)\n",
    "    p_max['pagerank'].append(np.max(p_pagerank))    \n",
    "    p_mean['pagerank'].append(np.mean(p_pagerank))    "
   ]
  },
  {
   "cell_type": "code",
   "execution_count": null,
   "metadata": {},
   "outputs": [],
   "source": [
    "fig = plt.figure(figsize=(6, 5))\n",
    "ax = fig.gca()\n",
    "leg = []\n",
    "for method_id in ICscore:\n",
    "    ax.plot(p_max[method_id]  / np.max(p_max[method_id]), 'o-')\n",
    "    leg.append(method_id)\n",
    "\n",
    "ax.legend(leg, fontsize=16)\n",
    "\n",
    "ax.set_xlabel('Number of nodes', fontsize=16)\n",
    "ax.set_ylabel('Max standard deviation', fontsize=16)\n",
    "\n",
    "for tick in ax.xaxis.get_major_ticks():\n",
    "    tick.label.set_fontsize(16) \n",
    "for tick in ax.yaxis.get_major_ticks():\n",
    "    tick.label.set_fontsize(16) \n",
    "ax.grid(True)\n",
    "ax.set_ylim([0, 1.1])\n",
    "\n",
    "plt.savefig('figures/' + exp_id + '_p_max' + '.pdf', bbox_inches='tight')"
   ]
  },
  {
   "cell_type": "code",
   "execution_count": null,
   "metadata": {},
   "outputs": [],
   "source": [
    "fig = plt.figure(figsize=(6, 5))\n",
    "ax = fig.gca()\n",
    "leg = []\n",
    "for method_id in ICscore:\n",
    "    ax.plot(p_mean[method_id] / np.max(p_mean[method_id]), 'o-')\n",
    "    leg.append(method_id)\n",
    "\n",
    "ax.legend(leg, fontsize=16)\n",
    "\n",
    "ax.set_xlabel('Number of nodes', fontsize=16)\n",
    "ax.set_ylabel('Mean standard deviation', fontsize=16)\n",
    "\n",
    "for tick in ax.xaxis.get_major_ticks():\n",
    "    tick.label.set_fontsize(16) \n",
    "for tick in ax.yaxis.get_major_ticks():\n",
    "    tick.label.set_fontsize(16) \n",
    "ax.grid(True)\n",
    "ax.set_ylim([0, 1.1])\n",
    "\n",
    "plt.savefig('figures/' + exp_id + '_p_mean' + '.pdf', bbox_inches='tight')"
   ]
  }
 ],
 "metadata": {
  "kernelspec": {
   "display_name": "Python 3",
   "language": "python",
   "name": "python3"
  },
  "language_info": {
   "codemirror_mode": {
    "name": "ipython",
    "version": 3
   },
   "file_extension": ".py",
   "mimetype": "text/x-python",
   "name": "python",
   "nbconvert_exporter": "python",
   "pygments_lexer": "ipython3",
   "version": "3.8.3"
  }
 },
 "nbformat": 4,
 "nbformat_minor": 4
}
