{
 "cells": [
  {
   "cell_type": "markdown",
   "metadata": {},
   "source": [
    "# Experiment 1"
   ]
  },
  {
   "cell_type": "markdown",
   "metadata": {},
   "source": [
    "This id is used as a prefix for the figure names."
   ]
  },
  {
   "cell_type": "code",
   "execution_count": null,
   "metadata": {},
   "outputs": [],
   "source": [
    "exp_id = 'experiment1'\n",
    "from datetime import datetime\n",
    "exp_id += '_' + str(datetime.now()).replace(' ', '_')"
   ]
  },
  {
   "cell_type": "markdown",
   "metadata": {},
   "source": [
    "### Imports"
   ]
  },
  {
   "cell_type": "code",
   "execution_count": null,
   "metadata": {},
   "outputs": [],
   "source": [
    "import sys\n",
    "sys.path.insert(1, '../')"
   ]
  },
  {
   "cell_type": "code",
   "execution_count": null,
   "metadata": {},
   "outputs": [],
   "source": [
    "from utils import plot_graph\n",
    "from graph_loaders import load_graph\n",
    "import matplotlib.pyplot as plt\n",
    "import numpy as np\n",
    "from approx import GBFGreedy\n",
    "from kernels import VarSpline, Diffusion\n",
    "import networkx as nx\n",
    "plt.rcParams.update({'font.size': 16})"
   ]
  },
  {
   "cell_type": "markdown",
   "metadata": {},
   "source": [
    "### Load a graph"
   ]
  },
  {
   "cell_type": "code",
   "execution_count": null,
   "metadata": {},
   "outputs": [],
   "source": [
    "path = '../'\n",
    "# G = load_graph('sensor2', path=path)\n",
    "# G = load_graph('sensor1', path=path)\n",
    "# G = load_graph('emptyset', path=path)\n",
    "# G = load_graph('2moon', path=path)\n",
    "# G = load_graph('minnesota', path=path)\n",
    "# G = load_graph('rand', path=path)\n",
    "# G = load_graph('rand_sparse', path=path)\n",
    "G = load_graph('bunny', path=path)\n",
    "\n",
    "# G = nx.dorogovtsev_goltsev_mendes_graph(7)\n",
    "# pos = nx.spectral_layout(G, center=[0.5, 0.5])\n",
    "# nx.set_node_attributes(G, pos, 'pos')"
   ]
  },
  {
   "cell_type": "markdown",
   "metadata": {},
   "source": [
    "### Define an optimization set"
   ]
  },
  {
   "cell_type": "code",
   "execution_count": null,
   "metadata": {},
   "outputs": [],
   "source": [
    "X_train = np.arange(len(G))\n",
    "y_train = np.ones(len(G))"
   ]
  },
  {
   "cell_type": "markdown",
   "metadata": {},
   "source": [
    "### Define a kernel"
   ]
  },
  {
   "cell_type": "code",
   "execution_count": null,
   "metadata": {},
   "outputs": [],
   "source": [
    "# kernel = VarSpline(G, par=[-1.1, 0.01])\n",
    "kernel = Diffusion(G, par=[-10])"
   ]
  },
  {
   "cell_type": "markdown",
   "metadata": {},
   "source": [
    "### Select the points"
   ]
  },
  {
   "cell_type": "code",
   "execution_count": null,
   "metadata": {},
   "outputs": [],
   "source": [
    "max_iter = 20 # Max number of point to be selected\n",
    "tol_p = 1e-12  # Tolerance on the max of the squared power function\n",
    "tol_f = 1e-12      # Tolerance on the residual"
   ]
  },
  {
   "cell_type": "code",
   "execution_count": null,
   "metadata": {},
   "outputs": [],
   "source": [
    "model = GBFGreedy(G, kernel=kernel, greedy_type='p_greedy', \n",
    "                  reg_par=0, \n",
    "                  max_iter=max_iter, tol_p=tol_p, tol_f=tol_f,\n",
    "                  verbose=False)"
   ]
  },
  {
   "cell_type": "code",
   "execution_count": null,
   "metadata": {},
   "outputs": [],
   "source": [
    "model.fit(X_train, y_train)"
   ]
  },
  {
   "cell_type": "markdown",
   "metadata": {},
   "source": [
    "### Visualize the selected points"
   ]
  },
  {
   "cell_type": "code",
   "execution_count": null,
   "metadata": {
    "scrolled": true
   },
   "outputs": [],
   "source": [
    "fig = plt.figure(figsize=(7, 5))\n",
    "ax = fig.gca()\n",
    "plot_graph(G, ax=ax, values=model.eval_power_fun(X_train), \n",
    "           nodelist=model.ctrs_, \n",
    "           cb_label='Standard deviation')\n",
    "\n",
    "plt.savefig('figures/' + exp_id + '_points' + '.pdf', bbox_inches='tight')"
   ]
  },
  {
   "cell_type": "code",
   "execution_count": null,
   "metadata": {},
   "outputs": [],
   "source": [
    "model.eval_power_fun(X_train) / model.kernel.diagonal(X_train)"
   ]
  },
  {
   "cell_type": "markdown",
   "metadata": {},
   "source": [
    "### Visualize the decay of the standard deviation"
   ]
  },
  {
   "cell_type": "code",
   "execution_count": null,
   "metadata": {},
   "outputs": [],
   "source": [
    "fig = plt.figure(figsize=(7, 5))\n",
    "ax = fig.gca()\n",
    "ax.plot(model.train_hist['p'])\n",
    "ax.legend(['Max of the standard deviation'], fontsize=16)\n",
    "ax.set_xlabel('Number of nodes', fontsize=16)\n",
    "for tick in ax.xaxis.get_major_ticks():\n",
    "    tick.label.set_fontsize(16) \n",
    "for tick in ax.yaxis.get_major_ticks():\n",
    "    tick.label.set_fontsize(16) \n",
    "ax.grid(True)\n",
    "\n",
    "plt.savefig('figures/' + exp_id + '_p_max' + '.pdf', bbox_inches='tight')"
   ]
  },
  {
   "cell_type": "markdown",
   "metadata": {},
   "source": [
    "### Visualize the decay of the residual"
   ]
  },
  {
   "cell_type": "code",
   "execution_count": null,
   "metadata": {},
   "outputs": [],
   "source": [
    "fig = plt.figure(figsize=(7, 5))\n",
    "ax = fig.gca()\n",
    "ax.plot(model.train_hist['f'])\n",
    "ax.legend(['Max of the residual'], fontsize=16)\n",
    "ax.set_xlabel('Number of nodes', fontsize=16)\n",
    "for tick in ax.xaxis.get_major_ticks():\n",
    "    tick.label.set_fontsize(16) \n",
    "for tick in ax.yaxis.get_major_ticks():\n",
    "    tick.label.set_fontsize(16) \n",
    "ax.grid(True)\n",
    "\n",
    "plt.savefig('figures/' + exp_id + '_f_max' + '.pdf', bbox_inches='tight')"
   ]
  }
 ],
 "metadata": {
  "kernelspec": {
   "display_name": "Python 3",
   "language": "python",
   "name": "python3"
  },
  "language_info": {
   "codemirror_mode": {
    "name": "ipython",
    "version": 3
   },
   "file_extension": ".py",
   "mimetype": "text/x-python",
   "name": "python",
   "nbconvert_exporter": "python",
   "pygments_lexer": "ipython3",
   "version": "3.8.3"
  }
 },
 "nbformat": 4,
 "nbformat_minor": 4
}
